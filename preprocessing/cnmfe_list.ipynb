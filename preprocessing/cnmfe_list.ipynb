{
 "cells": [
  {
   "cell_type": "code",
   "execution_count": 36,
   "metadata": {},
   "outputs": [],
   "source": [
    "INPUT_DIRECTORY_NAME = r'E:\\H0466' # <----INPUT the directory location in which your files are being stored\n",
    "\n",
    "# Input stage as the dictionary key, then list MC recordings\n",
    "series_rec_names = {\n",
    "        'N01':\n",
    "        [\n",
    "            '2019-05-22-10-01-43_video-PP-BP-MC',\n",
    "            '2019-05-22-10-18-26_video-PP-BP-MC',\n",
    "            '2019-05-22-11-10-00_video-PP-BP-MC',\n",
    "        ],\n",
    "        'N02':\n",
    "        [\n",
    "            '2019-06-03-11-50-06_video-PP-BP-MC',\n",
    "            '2019-06-03-12-07-05_video-PP-BP-MC',\n",
    "            '2019-06-03-12-49-10_video-PP-BP-MC',\n",
    "        ],\n",
    "}\n",
    "\n",
    "INPUT_TRIAL=22 # <---- trial number (change if altering the parameters)\n",
    "\n",
    "#------------------------------------------------------------------------------------------------------------------\n",
    "# CNMF-E Input params:\n",
    "num_processes=1\n",
    "K=30\n",
    "decay_time = 0.4\n",
    "rf=[50, 50]\n",
    "stride=15\n",
    "gSig=10\n",
    "gSiz=20\n",
    "min_SNR=5\n",
    "rval_thr=0.85\n",
    "ssub_B=1\n",
    "stride=15\n",
    "min_pnr=25\n",
    "min_corr=0.8\n",
    "event_threshold=0.4\n",
    "merge_threshold=0.8"
   ]
  },
  {
   "cell_type": "code",
   "execution_count": null,
   "metadata": {},
   "outputs": [
    {
     "name": "stdout",
     "output_type": "stream",
     "text": [
      "Exporting .isxd to tiff file...\n",
      "Wrote .tiff file to: E:\\H0466\\2019-06-03-11-50-06_video-PP-BP-MC.tiff\n",
      "run_cnmfe - complete, Time -elapsed = 3.511494058304363\n",
      "Exporting .isxd to tiff file...\n",
      "Wrote .tiff file to: E:\\H0466\\2019-06-03-11-50-06_video-PP-BP-MC.tiff\n"
     ]
    }
   ],
   "source": [
    "import os\n",
    "import isx\n",
    "import isx.cnmfe\n",
    "import time\n",
    "\n",
    "for series_name, rec_names in series_rec_names.items():\n",
    "    # Create lists of all files processed up to motion correction\n",
    "    mov_files = [os.path.join(INPUT_DIRECTORY_NAME, name + '.isxd') for name in rec_names]\n",
    "    \n",
    "    # Create output file names\n",
    "    cellset_files = [os.path.join(INPUT_DIRECTORY_NAME, name +'-CNMFE'+str(INPUT_TRIAL)+'.isxd') for name in rec_names]\n",
    "    events_files = [os.path.join(INPUT_DIRECTORY_NAME, name +'-CNMFE-ED'+str(INPUT_TRIAL)+'.isxd') for name in rec_names]\n",
    "    \n",
    "    # remove output files if they already exist\n",
    "    for cellset_file, events_file in zip(cellset_files, events_files):\n",
    "        if os.path.exists(cellset_file):\n",
    "            os.remove(cellset_file)\n",
    "        if os.path.exists(events_file):\n",
    "            os.remove(events_file)\n",
    "            \n",
    "    # Run CNMF-E\n",
    "    start = time.time()\n",
    "    isx.cnmfe.run_cnmfe(mov_file_all, cellset_file_all, events_file_all, num_processes=num_processes, K=K, rf=rf, stride=stride,\n",
    "                    gSig=gSig, gSiz=gSiz, min_pnr=min_pnr, min_corr=min_corr, event_threshold=event_threshold)\n",
    "    end = time.time()\n",
    "    print('run_cnmfe - complete,', 'Time -elapsed =', ((end-start)/60)/60)"
   ]
  },
  {
   "cell_type": "code",
   "execution_count": null,
   "metadata": {},
   "outputs": [],
   "source": []
  }
 ],
 "metadata": {
  "kernelspec": {
   "display_name": "Python 3",
   "language": "python",
   "name": "python3"
  },
  "language_info": {
   "codemirror_mode": {
    "name": "ipython",
    "version": 3
   },
   "file_extension": ".py",
   "mimetype": "text/x-python",
   "name": "python",
   "nbconvert_exporter": "python",
   "pygments_lexer": "ipython3",
   "version": "3.6.7"
  }
 },
 "nbformat": 4,
 "nbformat_minor": 2
}
