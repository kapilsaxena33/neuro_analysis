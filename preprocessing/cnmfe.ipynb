{
 "cells": [
  {
   "cell_type": "code",
   "execution_count": null,
   "metadata": {},
   "outputs": [],
   "source": [
    "INPUT_DIRECTORY_NAME = '' # <----INPUT the directory location in which your files are being stored\n",
    "INPUT_VIDEO_NAME= '.isxd' # <----INPUT the file name you want to process with CNMF-e\n",
    "INPUT_TRIAL=21 # <---- trial number (change if altering the parameters)\n",
    "\n",
    "import os\n",
    "import isx\n",
    "import isx.cnmfe\n",
    "import time\n",
    "# Define the recording path to the cell set and event data, as done in the standard workflow example\n",
    "data_dir = os.path.join(INPUT_DIRECTORY_NAME)\n",
    "\n",
    "# Pick out a movie from a particular session.\n",
    "mov_file = os.path.join(data_dir, INPUT_VIDEO_NAME)\n",
    "\n",
    "#Preprocessing before cnmfe step\n",
    "cellset_file = os.path.join(data_dir, mov_file[:-5]+'-CNMFE'+str(INPUT_TRIAL)+'.isxd')\n",
    "events_file = os.path.join(data_dir, mov_file[:-5]+'-CNMFE-ED'+str(INPUT_TRIAL)+'.isxd')\n",
    "\n",
    "# remove output files if they already exist\n",
    "if os.path.exists(cellset_file):\n",
    "    os.remove(cellset_file)\n",
    "if os.path.exists(events_file):\n",
    "    os.remove(events_file)\n",
    "    \n",
    "# CNMF-E\n",
    "#------------------------------------------------------------------------------------------------------------------\n",
    "# Input params:\n",
    "num_processes=1\n",
    "K=30\n",
    "rf=[50, 50]\n",
    "stride=15\n",
    "gSig=10\n",
    "gSiz=20\n",
    "min_pnr=25\n",
    "min_corr=0.8\n",
    "event_threshold=0.4\n",
    "#------------------------------------------------------------------------------------------------------------------\n",
    "start = time.time()\n",
    "isx.cnmfe.run_cnmfe(mov_file, cellset_file, events_file, num_processes=num_processes, K=K, rf=rf, stride=stride,\n",
    "                    gSig=gSig, gSiz=gSiz, min_pnr=min_pnr, min_corr=min_corr, event_threshold=event_threshold)\n",
    "end = time.time()\n",
    "print('run_cnmfe - complete,', 'Time -elapsed =', (end-start)/60)"
   ]
  }
 ],
 "metadata": {
  "kernelspec": {
   "display_name": "Python 3",
   "language": "python",
   "name": "python3"
  },
  "language_info": {
   "codemirror_mode": {
    "name": "ipython",
    "version": 3
   },
   "file_extension": ".py",
   "mimetype": "text/x-python",
   "name": "python",
   "nbconvert_exporter": "python",
   "pygments_lexer": "ipython3",
   "version": "3.7.3"
  }
 },
 "nbformat": 4,
 "nbformat_minor": 2
}
