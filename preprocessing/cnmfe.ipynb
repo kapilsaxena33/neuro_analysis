{
 "cells": [
  {
   "cell_type": "code",
   "execution_count": 1,
   "metadata": {},
   "outputs": [],
   "source": [
    "import os\n",
    "import isx\n",
    "import isx.cnmfe"
   ]
  },
  {
   "cell_type": "code",
   "execution_count": 2,
   "metadata": {},
   "outputs": [],
   "source": [
    "# Define the recording path to the cell set and event data, as done in the standard workflow example\n",
    "data_dir = os.path.join(r'E:/cnmftesting/ANFpre/ANFpre/ANFpre_data/')\n",
    "\n",
    "# Pick out a movie from a particular session.\n",
    "mov_file = os.path.join(data_dir, '2019-07-09-11-14-44_video_trig_0-PP-PP-BP-MC.isxd')"
   ]
  },
  {
   "cell_type": "code",
   "execution_count": 5,
   "metadata": {
    "scrolled": true
   },
   "outputs": [],
   "source": [
    "#Preprocessing before cnmfe step\n",
    "cellset_file = os.path.join(data_dir, mov_file[:-5]+'-CNMFE1.isxd')\n",
    "events_file = os.path.join(data_dir, mov_file[:-5]+'-CNMFE-ED1.isxd')\n",
    "\n",
    "# remove output files if they already exist\n",
    "if os.path.exists(cellset_file):\n",
    "    os.remove(cellset_file)\n",
    "if os.path.exists(events_file):\n",
    "    os.remove(events_file)"
   ]
  },
  {
   "cell_type": "code",
   "execution_count": 6,
   "metadata": {},
   "outputs": [
    {
     "name": "stdout",
     "output_type": "stream",
     "text": [
      "Exporting .isxd to tiff file...\n",
      "Wrote .tiff file to: E:/cnmftesting/ANFpre/ANFpre/ANFpre_data\\2019-07-09-11-14-44_video_trig_0-PP-PP-BP-MC.tiff\n",
      "run_cnmfe - complete\n"
     ]
    }
   ],
   "source": [
    "# CNMF-E\n",
    "#------------------------------------------------------------------------------------------------------------------\n",
    "# Input params:\n",
    "num_processes=1\n",
    "K=10\n",
    "rf=[25, 25]\n",
    "stride=15\n",
    "gSig=7\n",
    "gSiz=20\n",
    "min_pnr=15\n",
    "min_corr=0.8\n",
    "event_threshold=0.5\n",
    "#------------------------------------------------------------------------------------------------------------------\n",
    "\n",
    "isx.cnmfe.run_cnmfe(mov_file, cellset_file, events_file, num_processes=num_processes, K=K, rf=rf, stride=stride,\n",
    "                    gSig=gSig, gSiz=gSiz, min_pnr=min_pnr, min_corr=min_corr, event_threshold=event_threshold)\n",
    "print('run_cnmfe - complete')\n"
   ]
  },
  {
   "cell_type": "code",
   "execution_count": null,
   "metadata": {},
   "outputs": [],
   "source": []
  }
 ],
 "metadata": {
  "kernelspec": {
   "display_name": "Python 3",
   "language": "python",
   "name": "python3"
  },
  "language_info": {
   "codemirror_mode": {
    "name": "ipython",
    "version": 3
   },
   "file_extension": ".py",
   "mimetype": "text/x-python",
   "name": "python",
   "nbconvert_exporter": "python",
   "pygments_lexer": "ipython3",
   "version": "3.7.3"
  }
 },
 "nbformat": 4,
 "nbformat_minor": 2
}
