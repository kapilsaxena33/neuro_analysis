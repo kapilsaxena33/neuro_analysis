{
 "cells": [
  {
   "cell_type": "code",
   "execution_count": 247,
   "metadata": {},
   "outputs": [
    {
     "name": "stderr",
     "output_type": "stream",
     "text": [
      "/anaconda3/lib/python3.7/site-packages/IPython/core/interactiveshell.py:3049: DtypeWarning: Columns (0,1,2,3,4,5,6,7,8,9,10,11,12,13,14,15,16,17,18,19,20,21,22,23,24,25,26,27,28,29,30,31,32,33,34,35,36,37,38,39,40,41,42,43,44,45,46,47,48,49,50,51,52,53,54,55,56,57,58,59,60,61,62,63,64,65,66,67,68,69,70,71,72,73,74,75,76,77,78,79,80,81,82,83,84,85,86,87,88,89,90,91,92,93,94,95,96,97,98,99,100,101,102,103,104,105,106,107,108,109,110,111,112,113,114,115,116,117,118,119,120,121,122,123,124,125,126,127,128,129,130,131,132,133,134,135,136,137,138,139,140,141,142,143,144,145,146,147,148,149,150,151,152,153,154,155,156,157,158,159,160,161,162,163,164,165,166,167,168,169,170,171,172,173,174,175,176,177,178,179,180,181,182,183,184,185,186,187,188,189,190,191,192,193,194,195,196,197,198,199,200,201,202,203,204,205,206,207,208,209,210,211,212,213,214,215,216,217,218,219,220,221,222,223,224,225,226,227,228,229,230,231,232,233,234,235,236,237,238,239,240,241,242,243,244,245,246,247,248,249,250,251,252,253,254,255,256,257,258,259,260,261,262,263,264,265,266,267,268,269,270,271,272,273,274,275,276,277,278,279,280,281,282,283,284,285,286,287,288,289,290,291,292,293,294,295,296,297,298,299,300,301,302,303,304,305,306,307,308,309,310,311,312,313,314,315,316,317,318,319) have mixed types. Specify dtype option on import or set low_memory=False.\n",
      "  interactivity=interactivity, compiler=compiler, result=result)\n"
     ]
    }
   ],
   "source": [
    "import pandas as pd\n",
    "import numpy as np\n",
    "\n",
    "#Input file locations\n",
    "lr_traces = '/Users/rufusmitchell-heggs/Desktop/H0466_ALL_corrected.csv'\n",
    "timestamps = '/Users/rufusmitchell-heggs/Desktop/timestamps.csv'\n",
    "\n",
    "def lr_data_correction(traces_or_events, timestamps):\n",
    "    \"\"\"Labels and corrects timings for longitudinally registered csv file of multiple sessions/stages\n",
    "    \n",
    "    INPUT\n",
    "    -----\n",
    "    traces_or_events = .csv file location for longitudinally registered events or traces\n",
    "    timestamps = .csv file for timestamps of manually identified stage start and endings\n",
    "    \n",
    "    timestamps table format:\n",
    "    ---------------------------\n",
    "    |session|pre  |sam  | cho |\n",
    "    ---------------------------\n",
    "    | N01   |12701|21496|30611|\n",
    "    ---------------------------\n",
    "    \n",
    "    OUPUT:\n",
    "    -----\n",
    "    corrected_data = A datafame containing labelled sessions and stages with corrected timings\n",
    "    \"\"\"\n",
    "    #Read in lr_trace file location and make minor corrections\n",
    "    lr_traces = pd.read_csv(lr_traces)\n",
    "    lr_traces = lr_traces.drop(lr_traces.index[0])\n",
    "    lr_traces = lr_traces.reset_index(drop=True)\n",
    "    lr_traces = lr_traces.rename(columns={\" \": \"Time\"})\n",
    "\n",
    "    #Read in timestamp info\n",
    "    timestamps = pd.read_csv(timestamps)\n",
    "    sessions = list(timestamps['session'])\n",
    "    \n",
    "    #Identify start and end frames for all sessions\n",
    "    all_data = list(traces_or_events['Time'].astype(float))\n",
    "    session_starts = [0]\n",
    "    session_ends = []\n",
    "    for i in range(len(all_data)):\n",
    "        if i + 1 < len(all_data):\n",
    "            if abs(all_data[i+1] - all_data[i]) > 1 :\n",
    "                session_starts.append(i+1)\n",
    "                session_ends.append(i)\n",
    "    session_ends.append(len(traces_or_events))\n",
    "        \n",
    "    # Save each session and each stage as a list \n",
    "    indiv_sessions = []\n",
    "    for sesh, start, end in zip(sessions, session_starts, session_ends):\n",
    "        \n",
    "        #Isolate individual sessions\n",
    "        indiv_session = traces_or_events[start:end]\n",
    "        indiv_session = indiv_session.reset_index(drop=True)\n",
    "\n",
    "        #isolate indiviudal stages within a session\n",
    "        pre, sam, cho = np.array(timestamps[timestamps['session'].str.contains(sesh)])[0][1:].astype(int)\n",
    "        stages = list(('PRE',) * pre) + list(('SAM',) * (sam-pre)) + list(('CHO',) * (cho-sam))    \n",
    "        \n",
    "        #Correct timings and add column showing stage\n",
    "        stage_timings = [np.arange(0, pre, 1)*0.05006,np.arange(0, (sam-pre), 1)*0.05006,np.arange(0, (cho-sam), 1)*0.05006]\n",
    "        stage_timings = [item for sublist in stage_timings for item in sublist]\n",
    "        indiv_session.insert(loc=0, column='stage', value=stages)\n",
    "        indiv_session['Time'] = stage_timings\n",
    "        \n",
    "        # Insert column showing session\n",
    "        indiv_session.insert(loc=0, column='Session', value=list((sesh,) * len(indiv_session)))\n",
    "        \n",
    "        indiv_sessions.append(indiv_session)\n",
    "    \n",
    "    #Concatenate all sessions into single table\n",
    "    corrected_data = pd.concat(indiv_sessions)\n",
    "    return corrected_data\n",
    "\n",
    "lr_data_traces = lr_data_correction(lr_traces, timestamps)\n"
   ]
  },
  {
   "cell_type": "code",
   "execution_count": 373,
   "metadata": {},
   "outputs": [],
   "source": []
  }
 ],
 "metadata": {
  "kernelspec": {
   "display_name": "Python 3",
   "language": "python",
   "name": "python3"
  },
  "language_info": {
   "codemirror_mode": {
    "name": "ipython",
    "version": 3
   },
   "file_extension": ".py",
   "mimetype": "text/x-python",
   "name": "python",
   "nbconvert_exporter": "python",
   "pygments_lexer": "ipython3",
   "version": "3.7.3"
  }
 },
 "nbformat": 4,
 "nbformat_minor": 2
}
